{
 "cells": [
  {
   "attachments": {},
   "cell_type": "markdown",
   "metadata": {},
   "source": [
    "<b><span style=\"color:#E0777D\">Problem 1</span></b>\n",
    "Find the quarter of the year from the given date<br>\n",
    "<span style=\"color:#D3EFBD\"><i>Notes:</i></span>\n",
    "<br>\n",
    "1. Accept the date in DD-MM-YYYY format<br>\n",
    "2. output should be in the format: 'This date belongs to ____ quarter of _____'"
   ]
  },
  {
   "cell_type": "code",
   "execution_count": 1,
   "metadata": {},
   "outputs": [],
   "source": [
    "# First : accept the input from user in DD-MM-YYYY format\n",
    "usr_date = input()"
   ]
  },
  {
   "cell_type": "code",
   "execution_count": 2,
   "metadata": {},
   "outputs": [],
   "source": [
    "# Second : form a tuple set for given querters\n",
    "Q1 = ('01','02','03')\n",
    "Q2 = ('04','05','06')\n",
    "Q3 = ('07','08','09')\n",
    "Q4 = ('10','11','12')"
   ]
  },
  {
   "cell_type": "code",
   "execution_count": 3,
   "metadata": {},
   "outputs": [],
   "source": [
    "# third : compare the conditions for given tuples\n",
    "date_year = usr_date[6:]\n",
    "date_month = usr_date[3:5]\n",
    "quarter = ''\n",
    "if date_month in Q1:\n",
    "    quarter = 'first quarter'\n",
    "elif date_month in Q2:\n",
    "    quarter = 'second quarter'\n",
    "elif date_month in Q3:\n",
    "    quarter = 'third quarter'\n",
    "else:\n",
    "    quarter = 'forth quarter'\n"
   ]
  },
  {
   "cell_type": "code",
   "execution_count": 4,
   "metadata": {},
   "outputs": [
    {
     "name": "stdout",
     "output_type": "stream",
     "text": [
      "this date belongs to forth quarter of 2022\n"
     ]
    }
   ],
   "source": [
    "# forth : Print the result\n",
    "print(f'this date belongs to {quarter} of {date_year}')"
   ]
  }
 ],
 "metadata": {
  "kernelspec": {
   "display_name": "Python 3",
   "language": "python",
   "name": "python3"
  },
  "language_info": {
   "codemirror_mode": {
    "name": "ipython",
    "version": 3
   },
   "file_extension": ".py",
   "mimetype": "text/x-python",
   "name": "python",
   "nbconvert_exporter": "python",
   "pygments_lexer": "ipython3",
   "version": "3.11.1"
  },
  "orig_nbformat": 4,
  "vscode": {
   "interpreter": {
    "hash": "35dc66fb56cd16c460134023984d31703a866f0c905b6ad9731d8e9cbdef115c"
   }
  }
 },
 "nbformat": 4,
 "nbformat_minor": 2
}
